{
 "cells": [
  {
   "cell_type": "markdown",
   "metadata": {},
   "source": [
    "# Mapping LineStrings"
   ]
  },
  {
   "cell_type": "code",
   "execution_count": null,
   "metadata": {},
   "outputs": [],
   "source": [
    "import duckdb as ddb\n",
    "ddb.load_extension('spatial')"
   ]
  },
  {
   "cell_type": "code",
   "execution_count": null,
   "metadata": {},
   "outputs": [],
   "source": [
    "#parquet = r\"https://overturemapswestus2.blob.core.windows.net/release/2023-07-26-alpha.0/theme%3Dadmins/type%3DadministrativeBoundary/20230725_211237_00132_5p54t_fef965a3-b003-48f8-8188-1c8c7b233ccb\"\n",
    "parquet = 'admin_boundary.parquet'\n",
    "\n",
    "# Drop table admin_boundary if it exists\n",
    "ddb.sql(\"DROP TABLE IF EXISTS admin_boundary\")\n",
    "\n",
    "#ddb.sql(f\"CREATE TABLE admin_boundary AS SELECT * FROM read_parquet('{url}')\")\n",
    "#ddb.sql(f\"CREATE TABLE admin_boundary AS SELECT *, ST_GeomFromWKB(geometry) AS geom FROM read_parquet('{url}')\")\n",
    "ddb.sql(f\"CREATE TABLE admin_boundary AS SELECT id, geometry, ST_GeomFromWKB(geometry) AS geom, ST_AsGeoJSON(ST_GeomFromWKB(geometry)) AS json FROM read_parquet('{parquet}')\")"
   ]
  },
  {
   "cell_type": "code",
   "execution_count": null,
   "metadata": {},
   "outputs": [],
   "source": [
    "ddb.table('admin_boundary')"
   ]
  },
  {
   "cell_type": "markdown",
   "metadata": {},
   "source": [
    "For folium, we want the geometry in a dictionary"
   ]
  },
  {
   "cell_type": "code",
   "execution_count": null,
   "metadata": {},
   "outputs": [],
   "source": [
    "df = ddb.sql(\"SELECT json FROM admin_boundary\").df()"
   ]
  },
  {
   "cell_type": "code",
   "execution_count": null,
   "metadata": {},
   "outputs": [],
   "source": [
    "import json, geojson\n",
    "import pandas as pd\n",
    "\n",
    "\n",
    "# Import required modules\n",
    "import json, geojson\n",
    "import pandas as pd\n",
    "\n",
    "# Convert the JSON strings in the 'json' column to Python objects\n",
    "df['json'] = df['json'].apply(lambda x: json.loads(x))\n",
    "\n",
    "# Create an empty list to store your GeoJSON features\n",
    "features = []\n",
    "\n",
    "# Iterate over df and create a GeoJSON feature for each row\n",
    "for row in df.itertuples():\n",
    "    # Create a GeoJSON feature for the current row\n",
    "    feature = geojson.Feature(geometry=row.json, properties={})\n",
    "    # Add the feature to the list of features\n",
    "    features.append(feature)\n",
    "\n",
    "# Create a GeoJSON feature collection from the list of features\n",
    "feature_collection = geojson.FeatureCollection(features)\n",
    "\n",
    "# Print the resulting GeoJSON feature collection\n",
    "#print(geojson.dumps(feature_collection))"
   ]
  },
  {
   "cell_type": "code",
   "execution_count": null,
   "metadata": {},
   "outputs": [],
   "source": [
    "#df"
   ]
  },
  {
   "cell_type": "markdown",
   "metadata": {},
   "source": [
    "## Folium"
   ]
  },
  {
   "cell_type": "code",
   "execution_count": null,
   "metadata": {},
   "outputs": [],
   "source": [
    "import folium\n",
    "\n",
    "# Create a map object\n",
    "m = folium.Map(location=[45.5236, -122.6750])\n",
    "\n",
    "folium.GeoJson(feature_collection).add_to(m)\n",
    "\n",
    "# Fit to the bounds of the data\n",
    "m.fit_bounds(m.get_bounds())"
   ]
  },
  {
   "cell_type": "code",
   "execution_count": null,
   "metadata": {},
   "outputs": [],
   "source": [
    "m"
   ]
  },
  {
   "cell_type": "markdown",
   "metadata": {},
   "source": [
    "## Leafmap.leafmap"
   ]
  },
  {
   "cell_type": "code",
   "execution_count": null,
   "metadata": {},
   "outputs": [],
   "source": [
    "import leafmap.leafmap as leafmap\n",
    "\n",
    "m = leafmap.Map()\n",
    "m.add_geojson(feature_collection, layer_name=\"GeoJSON\", zoom_to_layer=True)"
   ]
  },
  {
   "cell_type": "code",
   "execution_count": null,
   "metadata": {},
   "outputs": [],
   "source": [
    "m"
   ]
  },
  {
   "cell_type": "markdown",
   "metadata": {},
   "source": [
    "## Leafmap.foliumap"
   ]
  },
  {
   "cell_type": "code",
   "execution_count": null,
   "metadata": {},
   "outputs": [],
   "source": [
    "import leafmap.foliumap as leafmap\n",
    "\n",
    "# Get the bounds of the GeoJSON file\n",
    "#bounds = leafmap.get_geojson_bounds(feature_collection)\n",
    "\n",
    "m = leafmap.Map()\n",
    "m.add_geojson(feature_collection, layer_name=\"GeoJSON\")"
   ]
  },
  {
   "cell_type": "code",
   "execution_count": null,
   "metadata": {},
   "outputs": [],
   "source": [
    "m"
   ]
  },
  {
   "cell_type": "code",
   "execution_count": null,
   "metadata": {},
   "outputs": [],
   "source": []
  }
 ],
 "metadata": {
  "kernelspec": {
   "display_name": "ais-data-explorer-2movingpandas",
   "language": "python",
   "name": "python3"
  },
  "language_info": {
   "codemirror_mode": {
    "name": "ipython",
    "version": 3
   },
   "file_extension": ".py",
   "mimetype": "text/x-python",
   "name": "python",
   "nbconvert_exporter": "python",
   "pygments_lexer": "ipython3",
   "version": "3.10.12"
  },
  "orig_nbformat": 4
 },
 "nbformat": 4,
 "nbformat_minor": 2
}
