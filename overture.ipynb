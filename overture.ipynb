{
 "cells": [
  {
   "cell_type": "code",
   "execution_count": 1,
   "metadata": {},
   "outputs": [],
   "source": [
    "import duckdb as ddb"
   ]
  },
  {
   "cell_type": "code",
   "execution_count": 5,
   "metadata": {},
   "outputs": [
    {
     "data": {
      "application/vnd.jupyter.widget-view+json": {
       "model_id": "dd485a926cb64e5591498b65be041180",
       "version_major": 2,
       "version_minor": 0
      },
      "text/plain": [
       "FloatProgress(value=0.0, layout=Layout(width='auto'), style=ProgressStyle(bar_color='black'))"
      ]
     },
     "metadata": {},
     "output_type": "display_data"
    },
    {
     "data": {
      "text/plain": [
       "┌──────────────────────┬──────────────────────┬─────────┬───┬──────────────────────┬──────────────────────┐\n",
       "│          id          │      updatetime      │ version │ … │         bbox         │       geometry       │\n",
       "│       varchar        │       varchar        │  int32  │   │ struct(minx double…  │         blob         │\n",
       "├──────────────────────┼──────────────────────┼─────────┼───┼──────────────────────┼──────────────────────┤\n",
       "│ 85659d07fffffff110…  │ 2023-07-03T12:03:2…  │       0 │ … │ {'minx': 102.44760…  │ \\x01\\x02\\x00\\x00\\x…  │\n",
       "│ 85659d07fffffff110…  │ 2023-07-03T12:03:2…  │       0 │ … │ {'minx': 102.44760…  │ \\x01\\x02\\x00\\x00\\x…  │\n",
       "│ 84659d1ffffffff110…  │ 2023-07-03T12:03:2…  │       0 │ … │ {'minx': 102.50726…  │ \\x01\\x02\\x00\\x00\\x…  │\n",
       "│ 85659d03fffffff110…  │ 2023-07-03T12:03:2…  │       0 │ … │ {'minx': 102.57258…  │ \\x01\\x02\\x00\\x00\\x…  │\n",
       "│ 85659d0bfffffff110…  │ 2023-07-03T12:03:2…  │       0 │ … │ {'minx': 102.65648…  │ \\x01\\x02\\x00\\x00\\x…  │\n",
       "├──────────────────────┴──────────────────────┴─────────┴───┴──────────────────────┴──────────────────────┤\n",
       "│ 5 rows                                                                             16 columns (5 shown) │\n",
       "└─────────────────────────────────────────────────────────────────────────────────────────────────────────┘"
      ]
     },
     "execution_count": 5,
     "metadata": {},
     "output_type": "execute_result"
    }
   ],
   "source": [
    "ddb.sql(f\"SELECT * FROM read_parquet('{url}') LIMIT 5\")"
   ]
  },
  {
   "cell_type": "code",
   "execution_count": 9,
   "metadata": {},
   "outputs": [
    {
     "data": {
      "application/vnd.jupyter.widget-view+json": {
       "model_id": "0522be261ca046b493de5b17ba1b9fb9",
       "version_major": 2,
       "version_minor": 0
      },
      "text/plain": [
       "FloatProgress(value=0.0, layout=Layout(width='auto'), style=ProgressStyle(bar_color='black'))"
      ]
     },
     "metadata": {},
     "output_type": "display_data"
    }
   ],
   "source": [
    "url = r\"https://overturemapswestus2.blob.core.windows.net/release/2023-07-26-alpha.0/theme%3Dadmins/type%3DadministrativeBoundary/20230725_211237_00132_5p54t_fef965a3-b003-48f8-8188-1c8c7b233ccb\"\n",
    "ddb.sql(f\"CREATE TABLE admin_boundary AS SELECT * FROM read_parquet('{url}')\")"
   ]
  },
  {
   "cell_type": "code",
   "execution_count": 10,
   "metadata": {},
   "outputs": [
    {
     "data": {
      "text/plain": [
       "┌──────────────────────┬──────────────────────┬─────────┬───┬──────────────────────┬──────────────────────┐\n",
       "│          id          │      updatetime      │ version │ … │         bbox         │       geometry       │\n",
       "│       varchar        │       varchar        │  int32  │   │ struct(minx double…  │         blob         │\n",
       "├──────────────────────┼──────────────────────┼─────────┼───┼──────────────────────┼──────────────────────┤\n",
       "│ 85658a2ffffffff110…  │ 2023-05-26T04:21:3…  │       0 │ … │ {'minx': 100.87633…  │ \\x01\\x02\\x00\\x00\\x…  │\n",
       "│ 85658a2ffffffff110…  │ 2023-05-26T04:21:3…  │       0 │ … │ {'minx': 100.87927…  │ \\x01\\x02\\x00\\x00\\x…  │\n",
       "│ 84658a3ffffffff110…  │ 2023-05-26T04:21:4…  │       0 │ … │ {'minx': 100.97847…  │ \\x01\\x02\\x00\\x00\\x…  │\n",
       "│ 85658b63fffffff110…  │ 2023-05-26T04:02:4…  │       0 │ … │ {'minx': 100.05317…  │ \\x01\\x02\\x00\\x00\\x…  │\n",
       "│ 85658b63fffffff110…  │ 2023-05-26T04:02:4…  │       0 │ … │ {'minx': 100.05090…  │ \\x01\\x02\\x00\\x00\\x…  │\n",
       "│ 85658b63fffffff110…  │ 2023-05-26T04:02:4…  │       0 │ … │ {'minx': 100.03075…  │ \\x01\\x02\\x00\\x00\\x…  │\n",
       "│ 85658b63fffffff110…  │ 2023-05-26T04:02:4…  │       0 │ … │ {'minx': 100.07390…  │ \\x01\\x02\\x00\\x00\\x…  │\n",
       "│ 85658aaffffffff110…  │ 2023-05-26T04:21:4…  │       0 │ … │ {'minx': 101.08284…  │ \\x01\\x02\\x00\\x00\\x…  │\n",
       "│ 84658abffffffff110…  │ 2023-05-26T04:21:4…  │       0 │ … │ {'minx': 101.17173…  │ \\x01\\x02\\x00\\x00\\x…  │\n",
       "│ 85658aabfffffff110…  │ 2023-05-26T04:21:4…  │       0 │ … │ {'minx': 101.21185…  │ \\x01\\x02\\x00\\x00\\x…  │\n",
       "│          ·           │          ·           │       · │ · │          ·           │          ·           │\n",
       "│          ·           │          ·           │       · │ · │          ·           │          ·           │\n",
       "│          ·           │          ·           │       · │ · │          ·           │          ·           │\n",
       "│ 842d001ffffffff110…  │ 2023-05-28T13:09:1…  │       0 │ … │ {'minx': 34.219873…  │ \\x01\\x02\\x00\\x00\\x…  │\n",
       "│ 842d001ffffffff110…  │ 2023-05-28T13:09:2…  │       0 │ … │ {'minx': 34.442090…  │ \\x01\\x02\\x00\\x00\\x…  │\n",
       "│ 852d0007fffffff110…  │ 2023-05-28T13:09:2…  │       0 │ … │ {'minx': 34.442090…  │ \\x01\\x02\\x00\\x00\\x…  │\n",
       "│ 852d00a3fffffff110…  │ 2023-05-28T13:09:2…  │       0 │ … │ {'minx': 34.246613…  │ \\x01\\x02\\x00\\x00\\x…  │\n",
       "│ 842d00bffffffff110…  │ 2023-05-28T13:09:2…  │       0 │ … │ {'minx': 34.268788…  │ \\x01\\x02\\x00\\x00\\x…  │\n",
       "│ 832d00fffffffff110…  │ 2023-05-28T13:09:2…  │       0 │ … │ {'minx': 34.452649…  │ \\x01\\x02\\x00\\x00\\x…  │\n",
       "│ 852d00a3fffffff110…  │ 2023-05-28T13:09:2…  │       0 │ … │ {'minx': 34.246613…  │ \\x01\\x02\\x00\\x00\\x…  │\n",
       "│ 842d00bffffffff110…  │ 2023-05-28T13:09:2…  │       0 │ … │ {'minx': 34.231254…  │ \\x01\\x02\\x00\\x00\\x…  │\n",
       "│ 8438283ffffffff110…  │ 2023-05-24T04:43:0…  │       0 │ … │ {'minx': 2.199537,…  │ \\x01\\x02\\x00\\x00\\x…  │\n",
       "│ 85382823fffffff110…  │ 2023-05-24T04:43:0…  │       0 │ … │ {'minx': 2.0559892…  │ \\x01\\x02\\x00\\x00\\x…  │\n",
       "├──────────────────────┴──────────────────────┴─────────┴───┴──────────────────────┴──────────────────────┤\n",
       "│ 4379 rows (20 shown)                                                               16 columns (5 shown) │\n",
       "└─────────────────────────────────────────────────────────────────────────────────────────────────────────┘"
      ]
     },
     "execution_count": 10,
     "metadata": {},
     "output_type": "execute_result"
    }
   ],
   "source": [
    "ddb.table('admin_boundary')"
   ]
  }
 ],
 "metadata": {
  "kernelspec": {
   "display_name": "ais-data-explorer-2movingpandas",
   "language": "python",
   "name": "python3"
  },
  "language_info": {
   "codemirror_mode": {
    "name": "ipython",
    "version": 3
   },
   "file_extension": ".py",
   "mimetype": "text/x-python",
   "name": "python",
   "nbconvert_exporter": "python",
   "pygments_lexer": "ipython3",
   "version": "3.10.12"
  },
  "orig_nbformat": 4
 },
 "nbformat": 4,
 "nbformat_minor": 2
}
